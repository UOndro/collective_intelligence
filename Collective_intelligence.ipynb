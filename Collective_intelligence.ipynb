{
 "cells": [
  {
   "cell_type": "markdown",
   "metadata": {
    "id": "nDpZuNHlpZNf",
    "colab_type": "text"
   },
   "source": [
    "# Imports & Datas\n",
    "\n"
   ]
  },
  {
   "cell_type": "code",
   "execution_count": 1,
   "metadata": {
    "id": "5pRnJTWpp5uk",
    "colab_type": "code",
    "colab": {}
   },
   "outputs": [],
   "source": [
    "from typing import Tuple, Callable, List, Optional, Dict\n",
    "\n",
    "import numpy as np\n",
    "from numpy.core.multiarray import ndarray\n",
    "\n",
    "critics = {'Lisa Rose': {'Lady in the Water': 2.5, 'Snakes on a Plane': 3.5,\n",
    "                         'Just My Luck': 3.0, 'Superman Returns': 3.5, 'You, Me and Dupree': 2.5,\n",
    "                         'The Night Listener': 3.0},\n",
    "           'Gene Seymour': {'Lady in the Water': 3.0, 'Snakes on a Plane': 3.5,\n",
    "                            'Just My Luck': 1.5, 'Superman Returns': 5.0, 'The Night Listener': 3.0,\n",
    "                            'You, Me and Dupree': 3.5},\n",
    "           'Michael Phillips': {'Lady in the Water': 2.5, 'Snakes on a Plane': 3.0,\n",
    "                                'Superman Returns': 3.5, 'The Night Listener': 4.0},\n",
    "           'Claudia Puig': {'Snakes on a Plane': 3.5, 'Just My Luck': 3.0,\n",
    "                            'The Night Listener': 4.5, 'Superman Returns': 4.0,\n",
    "                            'You, Me and Dupree': 2.5},\n",
    "           'Mick LaSalle': {'Lady in the Water': 3.0, 'Snakes on a Plane': 4.0,\n",
    "                            'Just My Luck': 2.0, 'Superman Returns': 3.0, 'The Night Listener': 3.0,\n",
    "                            'You, Me and Dupree': 2.0},\n",
    "           'Jack Matthews': {'Lady in the Water': 3.0, 'Snakes on a Plane': 4.0,\n",
    "                             'The Night Listener': 3.0, 'Superman Returns': 5.0, 'You, Me and Dupree': 3.5},\n",
    "           'Toby': {'Snakes on a Plane': 4.5, 'You, Me and Dupree': 1.0, 'Superman Returns': 4.0}}\n"
   ]
  },
  {
   "cell_type": "markdown",
   "metadata": {
    "id": "Luat3AIJl7PI",
    "colab_type": "text"
   },
   "source": [
    "#Similarity"
   ]
  },
  {
   "cell_type": "markdown",
   "metadata": {
    "id": "OKK9J9Fxw0S8",
    "colab_type": "text"
   },
   "source": [
    "## Data view\n",
    "\n",
    "\n",
    "```python\n",
    "critics={'Lisa Rose': {'Lady in the Water': 2.5, 'Snakes on a Plane': 3.5, 'Just My Luck': 3.0, 'Superman Returns': 3.5, 'You, Me and Dupree': 2.5, 'The Night Listener': 3.0}}\n",
    "```\n",
    "\n"
   ]
  },
  {
   "cell_type": "markdown",
   "metadata": {
    "id": "4FF3qMsS_v9Z",
    "colab_type": "text"
   },
   "source": [
    "## Formulas\n",
    "### Euclidean distance: \n",
    "\n",
    "$\\sqrt(\\sum_{i=1}^{n} (x_i - y_i)^2)$\n",
    "\n",
    "### Pearson corellation score:\n",
    "$\\frac{\\sum_{i=1}^{n} x_i * y_i - \\frac{\\sum_{i=1}^{n} x_i * \\sum_{i=1}^{n} y_i}{n}}{\\sqrt((\\sum_{i=1}^{n} x_i^2 - \\frac{(\\sum_{i=1}^{n} x_i)^2 }{n}) * (\\sum_{i=1}^{n} y_i^2 - \\frac{(\\sum_{i=1}^{n} y_i)^2 }{n}))}$  \n"
   ]
  },
  {
   "cell_type": "code",
   "execution_count": 2,
   "metadata": {
    "id": "vMaRPg5UoEnI",
    "colab_type": "code",
    "colab": {}
   },
   "outputs": [],
   "source": [
    "\n",
    "def intersection_of_users_rating(user1: dict, user2: dict) -> Tuple[ndarray, ndarray]:\n",
    "    \"\"\"\n",
    "    Find items which both users rated and return rating for these items.\n",
    "    :param user1: Dictionary of user ratings.\n",
    "    :param user2: Dictionary of compared user ratings.\n",
    "    :return: Return numpy list of items and their rating for both users.\n",
    "    \"\"\"\n",
    "    intersection = user1.keys() & user2.keys()\n",
    "    user1_ratings = np.array([user1[item] for item in intersection])\n",
    "    user2_ratings = np.array([user2[item] for item in intersection])\n",
    "    return user1_ratings, user2_ratings\n",
    "\n",
    "\n",
    "def sim_distance(user1: dict, user2: dict) -> float:\n",
    "    \"\"\"\n",
    "    Calculate similarity for two users with using Euclidean distance.\n",
    "    :param user1: Dictionary of user ratings.\n",
    "    :param user2: Dictionary of compared user ratings.\n",
    "    :return: Euclidean distance, number between  0 and 1. \n",
    "    Return zero if users have nothing common.\n",
    "    \"\"\"\n",
    "    user1_ratings, user2_ratings = intersection_of_users_rating(user1, user2)\n",
    "\n",
    "    if not len(user1_ratings) or not len(user2_ratings):\n",
    "        return 0\n",
    "\n",
    "    euclidean_distance = np.linalg.norm(user1_ratings - user2_ratings)\n",
    "\n",
    "    return 1 / (1 + euclidean_distance)\n",
    "\n",
    "\n",
    "def sim_pearson(user1: dict, user2: dict) -> float:\n",
    "    \"\"\"\n",
    "    Calculate similarity for two users with using Pearson correlation.\n",
    "    :param user1: User ratings.\n",
    "    :param user2: Compared user ratings.\n",
    "    :return: Pearson correlation score, number between  -1 and 1. \n",
    "    Return zero if users have nothing common.\n",
    "    \"\"\"\n",
    "    user1_ratings, user2_ratings = intersection_of_users_rating(user1, user2)\n",
    "\n",
    "    if not len(user1_ratings) or not len(user2_ratings):\n",
    "        return 0\n",
    "\n",
    "    return np.corrcoef(user1_ratings, user2_ratings)[0][1]\n"
   ]
  },
  {
   "cell_type": "markdown",
   "metadata": {
    "id": "h2tU5Ljp_v9h",
    "colab_type": "code",
    "colab": {
     "base_uri": "https://localhost:8080/",
     "height": 34.0
    },
    "outputId": "3d7ed6b0-859b-4650-ae53-de1c10dd08f4",
    "executionInfo": {
     "status": "ok",
     "timestamp": 1.538370021021E12,
     "user_tz": -120.0,
     "elapsed": 582.0,
     "user": {
      "displayName": "Ondrej Unger",
      "photoUrl": "",
      "userId": "04482144930576874037"
     }
    }
   },
   "source": [
    "## Recommendations\n"
   ]
  },
  {
   "cell_type": "code",
   "execution_count": 7,
   "metadata": {
    "id": "1dRgcP7t_v9r",
    "colab_type": "code",
    "colab": {},
    "outputId": "69a22f33-48b5-43e7-88f3-b03f3543e8e0"
   },
   "outputs": [],
   "source": [
    "def top_matches(ratings: dict, user: str, n: Optional[int] = None,\n",
    "                similarity: Callable[[dict, dict], float] = sim_pearson) -> List[Tuple[float, str]]:\n",
    "    \"\"\"\n",
    "    Find top matches for selected user.\n",
    "    :param ratings: Users rating.\n",
    "    :param user: Name of user.\n",
    "    :param n: Number of top similar items.\n",
    "    :param similarity: Function for calculating similarity between two users.\n",
    "    :return: \n",
    "    \"\"\"\n",
    "    scores = [(similarity(ratings[user], ratings[other]), other)\n",
    "              for other in ratings if other != user]\n",
    "    scores.sort()\n",
    "    scores.reverse()\n",
    "    result = scores[0:n] if n else scores\n",
    "    return result\n",
    "\n",
    "\n",
    "def get_recommendations(ratings: Dict[str, dict], user: str, n: Optional[int] = None,\n",
    "                        similarity: Callable[[dict, dict], float] = sim_pearson) -> List[Tuple[float, str]]:\n",
    "    total_rating_for_item = {}\n",
    "    sum_similarities = {}\n",
    "    users_similarity = top_matches(ratings, user, n, similarity)\n",
    "\n",
    "    for similarity, compared_user in users_similarity:\n",
    "        if similarity <= 0:\n",
    "            continue\n",
    "        for item, rating in ratings[compared_user]:\n",
    "            if not ratings[user].get(item, None):\n",
    "                total_rating_for_item.setdefault(item, 0)\n",
    "                total_rating_for_item[item] += rating * similarity\n",
    "                # Sum of similarities\n",
    "                sum_similarities.setdefault(item, 0)\n",
    "                sum_similarities[item] += similarity\n",
    "\n",
    "    # Create the normalized list\n",
    "    rankings = [(total / sum_similarities[item], item) for item, total in total_rating_for_item.items()]\n",
    "\n",
    "    # Return the sorted list\n",
    "    rankings.sort()\n",
    "    rankings.reverse()\n",
    "    return rankings\n",
    "\n",
    "\n",
    "def transform_ranting(ranting: Dict[str, dict]):\n",
    "    transformed = {}\n",
    "    for person in ranting:\n",
    "        for item in ranting[person]:\n",
    "            transformed.setdefault(item, {})\n",
    "            transformed[item][person] = ranting[person][item]\n",
    "    return transformed\n"
   ]
  },
  {
   "cell_type": "code",
   "execution_count": 10,
   "metadata": {
    "id": "1aw5gMza_v9y",
    "colab_type": "code",
    "colab": {}
   },
   "outputs": [
    {
     "ename": "KeyError",
     "evalue": "'Supermans Returns'",
     "traceback": [
      "\u001b[0;31m---------------------------------------------------------------------------\u001b[0m",
      "\u001b[0;31mKeyError\u001b[0m                                  Traceback (most recent call last)",
      "\u001b[0;32m<ipython-input-10-666360a79a56>\u001b[0m in \u001b[0;36m<module>\u001b[0;34m\u001b[0m\n\u001b[1;32m      1\u001b[0m \u001b[0mmovies\u001b[0m \u001b[0;34m=\u001b[0m \u001b[0mtransform_ranting\u001b[0m\u001b[0;34m(\u001b[0m\u001b[0mcritics\u001b[0m\u001b[0;34m)\u001b[0m\u001b[0;34m\u001b[0m\u001b[0m\n\u001b[0;32m----> 2\u001b[0;31m \u001b[0mtop_matches\u001b[0m\u001b[0;34m(\u001b[0m\u001b[0mmovies\u001b[0m\u001b[0;34m,\u001b[0m \u001b[0;34m'Supermans Returns'\u001b[0m\u001b[0;34m)\u001b[0m\u001b[0;34m\u001b[0m\u001b[0m\n\u001b[0m",
      "\u001b[0;32m<ipython-input-7-a033a4a31c3a>\u001b[0m in \u001b[0;36mtop_matches\u001b[0;34m(ratings, user, n, similarity)\u001b[0m\n\u001b[1;32m     10\u001b[0m     \"\"\"\n\u001b[1;32m     11\u001b[0m     scores = [(similarity(ratings[user], ratings[other]), other)\n\u001b[0;32m---> 12\u001b[0;31m               for other in ratings if other != user]\n\u001b[0m\u001b[1;32m     13\u001b[0m     \u001b[0mscores\u001b[0m\u001b[0;34m.\u001b[0m\u001b[0msort\u001b[0m\u001b[0;34m(\u001b[0m\u001b[0;34m)\u001b[0m\u001b[0;34m\u001b[0m\u001b[0m\n\u001b[1;32m     14\u001b[0m     \u001b[0mscores\u001b[0m\u001b[0;34m.\u001b[0m\u001b[0mreverse\u001b[0m\u001b[0;34m(\u001b[0m\u001b[0;34m)\u001b[0m\u001b[0;34m\u001b[0m\u001b[0m\n",
      "\u001b[0;32m<ipython-input-7-a033a4a31c3a>\u001b[0m in \u001b[0;36m<listcomp>\u001b[0;34m(.0)\u001b[0m\n\u001b[1;32m     10\u001b[0m     \"\"\"\n\u001b[1;32m     11\u001b[0m     scores = [(similarity(ratings[user], ratings[other]), other)\n\u001b[0;32m---> 12\u001b[0;31m               for other in ratings if other != user]\n\u001b[0m\u001b[1;32m     13\u001b[0m     \u001b[0mscores\u001b[0m\u001b[0;34m.\u001b[0m\u001b[0msort\u001b[0m\u001b[0;34m(\u001b[0m\u001b[0;34m)\u001b[0m\u001b[0;34m\u001b[0m\u001b[0m\n\u001b[1;32m     14\u001b[0m     \u001b[0mscores\u001b[0m\u001b[0;34m.\u001b[0m\u001b[0mreverse\u001b[0m\u001b[0;34m(\u001b[0m\u001b[0;34m)\u001b[0m\u001b[0;34m\u001b[0m\u001b[0m\n",
      "\u001b[0;31mKeyError\u001b[0m: 'Supermans Returns'"
     ],
     "output_type": "error"
    }
   ],
   "source": [
    "movies = transform_ranting(critics)\n",
    "top_matches(movies, 'Superman Returns')\n"
   ]
  },
  {
   "cell_type": "code",
   "execution_count": null,
   "metadata": {},
   "outputs": [],
   "source": []
  }
 ],
 "metadata": {
  "colab": {
   "name": "Collective_intelligence.ipynb",
   "version": "0.3.2",
   "provenance": [],
   "toc_visible": true
  },
  "kernelspec": {
   "name": "python3",
   "display_name": "Python 3"
  },
  "accelerator": "GPU"
 },
 "nbformat": 4,
 "nbformat_minor": 0
}
